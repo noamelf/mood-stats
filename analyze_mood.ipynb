{
 "cells": [
  {
   "cell_type": "code",
   "execution_count": 1,
   "metadata": {},
   "outputs": [],
   "source": [
    "import pandas as pd\n",
    "from pandas.api.types import CategoricalDtype\n",
    "import seaborn as sns\n",
    "sns.set(style=\"whitegrid\", color_codes=True)"
   ]
  },
  {
   "cell_type": "code",
   "execution_count": 12,
   "metadata": {},
   "outputs": [
    {
     "data": {
      "text/html": [
       "<div>\n",
       "<style scoped>\n",
       "    .dataframe tbody tr th:only-of-type {\n",
       "        vertical-align: middle;\n",
       "    }\n",
       "\n",
       "    .dataframe tbody tr th {\n",
       "        vertical-align: top;\n",
       "    }\n",
       "\n",
       "    .dataframe thead th {\n",
       "        text-align: right;\n",
       "    }\n",
       "</style>\n",
       "<table border=\"1\" class=\"dataframe\">\n",
       "  <thead>\n",
       "    <tr style=\"text-align: right;\">\n",
       "      <th></th>\n",
       "      <th>year</th>\n",
       "      <th>date</th>\n",
       "      <th>weekday</th>\n",
       "      <th>time</th>\n",
       "      <th>mood</th>\n",
       "      <th>activities</th>\n",
       "      <th>note</th>\n",
       "    </tr>\n",
       "  </thead>\n",
       "  <tbody>\n",
       "    <tr>\n",
       "      <th>0</th>\n",
       "      <td>2018</td>\n",
       "      <td>June 22</td>\n",
       "      <td>Friday</td>\n",
       "      <td>20:39</td>\n",
       "      <td>bad</td>\n",
       "      <td>NaN</td>\n",
       "      <td>NaN</td>\n",
       "    </tr>\n",
       "    <tr>\n",
       "      <th>1</th>\n",
       "      <td>2018</td>\n",
       "      <td>June 21</td>\n",
       "      <td>Thursday</td>\n",
       "      <td>20:23</td>\n",
       "      <td>meh</td>\n",
       "      <td>NaN</td>\n",
       "      <td>NaN</td>\n",
       "    </tr>\n",
       "    <tr>\n",
       "      <th>2</th>\n",
       "      <td>2018</td>\n",
       "      <td>June 20</td>\n",
       "      <td>Wednesday</td>\n",
       "      <td>20:06</td>\n",
       "      <td>good</td>\n",
       "      <td>NaN</td>\n",
       "      <td>NaN</td>\n",
       "    </tr>\n",
       "    <tr>\n",
       "      <th>3</th>\n",
       "      <td>2018</td>\n",
       "      <td>June 19</td>\n",
       "      <td>Tuesday</td>\n",
       "      <td>20:00</td>\n",
       "      <td>good</td>\n",
       "      <td>work | Bike</td>\n",
       "      <td>NaN</td>\n",
       "    </tr>\n",
       "    <tr>\n",
       "      <th>4</th>\n",
       "      <td>2018</td>\n",
       "      <td>June 18</td>\n",
       "      <td>Monday</td>\n",
       "      <td>21:26</td>\n",
       "      <td>good</td>\n",
       "      <td>work | Sasha time | Bike</td>\n",
       "      <td>NaN</td>\n",
       "    </tr>\n",
       "  </tbody>\n",
       "</table>\n",
       "</div>"
      ],
      "text/plain": [
       "   year     date    weekday   time  mood                activities note\n",
       "0  2018  June 22     Friday  20:39   bad                       NaN  NaN\n",
       "1  2018  June 21   Thursday  20:23   meh                       NaN  NaN\n",
       "2  2018  June 20  Wednesday  20:06  good                       NaN  NaN\n",
       "3  2018  June 19    Tuesday  20:00  good               work | Bike  NaN\n",
       "4  2018  June 18     Monday  21:26  good  work | Sasha time | Bike  NaN"
      ]
     },
     "execution_count": 12,
     "metadata": {},
     "output_type": "execute_result"
    }
   ],
   "source": [
    "df = pd.read_csv('daylio_export.csv')\n",
    "df.head()`"
   ]
  },
  {
   "cell_type": "code",
   "execution_count": 13,
   "metadata": {},
   "outputs": [],
   "source": [
    "df['datetime'] = pd.to_datetime(df.time + ', ' + df.date + ', ' + df.year.map(str))"
   ]
  },
  {
   "cell_type": "code",
   "execution_count": 34,
   "metadata": {},
   "outputs": [],
   "source": [
    "df['time'] = pd.to_datetime(df['time'], format='%H:%M').dt.time"
   ]
  },
  {
   "cell_type": "code",
   "execution_count": 26,
   "metadata": {},
   "outputs": [],
   "source": [
    "del df['year']"
   ]
  },
  {
   "cell_type": "code",
   "execution_count": 14,
   "metadata": {},
   "outputs": [],
   "source": [
    "mood_order = ['rad', 'good', 'meh', 'bad', 'awful']\n",
    "df.mood = df.mood.astype(CategoricalDtype(ordered=True, categories=mood_order))"
   ]
  },
  {
   "cell_type": "code",
   "execution_count": 18,
   "metadata": {},
   "outputs": [],
   "source": [
    "weekday_order = ['Sunday', 'Monday', 'Tuesday', 'Wednesday',  'Thursday', 'Friday', 'Saturday']\n",
    "df.weekday = df.weekday.astype(CategoricalDtype(ordered=True, categories=weekday_order))"
   ]
  },
  {
   "cell_type": "code",
   "execution_count": 19,
   "metadata": {},
   "outputs": [],
   "source": [
    "df['mood_cat'] = df.mood.cat.codes\n",
    "df['weekday_cat'] = df.weekday.cat.codes + 1"
   ]
  },
  {
   "cell_type": "code",
   "execution_count": 27,
   "metadata": {},
   "outputs": [
    {
     "data": {
      "text/html": [
       "<div>\n",
       "<style scoped>\n",
       "    .dataframe tbody tr th:only-of-type {\n",
       "        vertical-align: middle;\n",
       "    }\n",
       "\n",
       "    .dataframe tbody tr th {\n",
       "        vertical-align: top;\n",
       "    }\n",
       "\n",
       "    .dataframe thead th {\n",
       "        text-align: right;\n",
       "    }\n",
       "</style>\n",
       "<table border=\"1\" class=\"dataframe\">\n",
       "  <thead>\n",
       "    <tr style=\"text-align: right;\">\n",
       "      <th></th>\n",
       "      <th>date</th>\n",
       "      <th>weekday</th>\n",
       "      <th>time</th>\n",
       "      <th>mood</th>\n",
       "      <th>activities</th>\n",
       "      <th>note</th>\n",
       "      <th>datetime</th>\n",
       "      <th>mood_cat</th>\n",
       "      <th>weekday_cat</th>\n",
       "    </tr>\n",
       "  </thead>\n",
       "  <tbody>\n",
       "    <tr>\n",
       "      <th>0</th>\n",
       "      <td>June 22</td>\n",
       "      <td>Friday</td>\n",
       "      <td>20:39</td>\n",
       "      <td>bad</td>\n",
       "      <td>NaN</td>\n",
       "      <td>NaN</td>\n",
       "      <td>2018-06-22 20:39:00</td>\n",
       "      <td>3</td>\n",
       "      <td>6</td>\n",
       "    </tr>\n",
       "    <tr>\n",
       "      <th>1</th>\n",
       "      <td>June 21</td>\n",
       "      <td>Thursday</td>\n",
       "      <td>20:23</td>\n",
       "      <td>meh</td>\n",
       "      <td>NaN</td>\n",
       "      <td>NaN</td>\n",
       "      <td>2018-06-21 20:23:00</td>\n",
       "      <td>2</td>\n",
       "      <td>5</td>\n",
       "    </tr>\n",
       "    <tr>\n",
       "      <th>2</th>\n",
       "      <td>June 20</td>\n",
       "      <td>Wednesday</td>\n",
       "      <td>20:06</td>\n",
       "      <td>good</td>\n",
       "      <td>NaN</td>\n",
       "      <td>NaN</td>\n",
       "      <td>2018-06-20 20:06:00</td>\n",
       "      <td>1</td>\n",
       "      <td>4</td>\n",
       "    </tr>\n",
       "    <tr>\n",
       "      <th>3</th>\n",
       "      <td>June 19</td>\n",
       "      <td>Tuesday</td>\n",
       "      <td>20:00</td>\n",
       "      <td>good</td>\n",
       "      <td>work | Bike</td>\n",
       "      <td>NaN</td>\n",
       "      <td>2018-06-19 20:00:00</td>\n",
       "      <td>1</td>\n",
       "      <td>3</td>\n",
       "    </tr>\n",
       "    <tr>\n",
       "      <th>4</th>\n",
       "      <td>June 18</td>\n",
       "      <td>Monday</td>\n",
       "      <td>21:26</td>\n",
       "      <td>good</td>\n",
       "      <td>work | Sasha time | Bike</td>\n",
       "      <td>NaN</td>\n",
       "      <td>2018-06-18 21:26:00</td>\n",
       "      <td>1</td>\n",
       "      <td>2</td>\n",
       "    </tr>\n",
       "  </tbody>\n",
       "</table>\n",
       "</div>"
      ],
      "text/plain": [
       "      date    weekday   time  mood                activities note  \\\n",
       "0  June 22     Friday  20:39   bad                       NaN  NaN   \n",
       "1  June 21   Thursday  20:23   meh                       NaN  NaN   \n",
       "2  June 20  Wednesday  20:06  good                       NaN  NaN   \n",
       "3  June 19    Tuesday  20:00  good               work | Bike  NaN   \n",
       "4  June 18     Monday  21:26  good  work | Sasha time | Bike  NaN   \n",
       "\n",
       "             datetime  mood_cat  weekday_cat  \n",
       "0 2018-06-22 20:39:00         3            6  \n",
       "1 2018-06-21 20:23:00         2            5  \n",
       "2 2018-06-20 20:06:00         1            4  \n",
       "3 2018-06-19 20:00:00         1            3  \n",
       "4 2018-06-18 21:26:00         1            2  "
      ]
     },
     "execution_count": 27,
     "metadata": {},
     "output_type": "execute_result"
    }
   ],
   "source": [
    "df.head()"
   ]
  },
  {
   "cell_type": "code",
   "execution_count": 25,
   "metadata": {},
   "outputs": [
    {
     "data": {
      "text/plain": [
       "<matplotlib.axes._subplots.AxesSubplot at 0x7f08f7e02b70>"
      ]
     },
     "execution_count": 25,
     "metadata": {},
     "output_type": "execute_result"
    },
    {
     "data": {
      "image/png": "[encoded data removed]",
      "text/plain": [
       "<Figure size 432x288 with 1 Axes>"
      ]
     },
     "metadata": {},
     "output_type": "display_data"
    }
   ],
   "source": [
    "sns.swarmplot(x=\"weekday_cat\", y=\"mood\", data=df)"
   ]
  },
  {
   "cell_type": "code",
   "execution_count": 64,
   "metadata": {},
   "outputs": [
    {
     "data": {
      "text/plain": [
       "weekday\n",
       "Sunday       0.909091\n",
       "Monday       0.818182\n",
       "Tuesday      1.333333\n",
       "Wednesday    1.363636\n",
       "Thursday     1.416667\n",
       "Friday       1.666667\n",
       "Saturday     1.454545\n",
       "Name: mood_cat, dtype: float64"
      ]
     },
     "execution_count": 64,
     "metadata": {},
     "output_type": "execute_result"
    }
   ],
   "source": [
    "mood_dist = df.groupby('weekday')['mood_cat'].mean()\n",
    "mood_dist"
   ]
  },
  {
   "cell_type": "code",
   "execution_count": 63,
   "metadata": {},
   "outputs": [
    {
     "data": {
      "image/png": "[encoded data removed]",
      "text/plain": [
       "<Figure size 432x288 with 1 Axes>"
      ]
     },
     "metadata": {},
     "output_type": "display_data"
    }
   ],
   "source": [
    "import matplotlib.pyplot as plt\n",
    "bp = df.groupby('weekday')['mood_cat'].plot(kind='kde')"
   ]
  },
  {
   "cell_type": "code",
   "execution_count": null,
   "metadata": {},
   "outputs": [],
   "source": []
  }
 ],
 "metadata": {
  "kernelspec": {
   "display_name": "Python 3",
   "language": "python",
   "name": "python3"
  },
  "language_info": {
   "codemirror_mode": {
    "name": "ipython",
    "version": 3
   },
   "file_extension": ".py",
   "mimetype": "text/x-python",
   "name": "python",
   "nbconvert_exporter": "python",
   "pygments_lexer": "ipython3",
   "version": "3.6.5"
  }
 },
 "nbformat": 4,
 "nbformat_minor": 2
}
